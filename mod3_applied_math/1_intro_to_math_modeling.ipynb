{
 "cells": [
  {
   "cell_type": "markdown",
   "metadata": {},
   "source": [
    "# Applied Math: Introduction to Mathematic Modeling"
   ]
  },
  {
   "cell_type": "markdown",
   "metadata": {},
   "source": [
    "## What is Mathematical Modeling?\n",
    "\n",
    "Refer to some of the general notes in [this notebook](https://github.com/mspieg/intro-numerical-methods/blob/master/00_intro_numerical_methods.ipynb) \n",
    "\n",
    "- general definition of mathematical modeling\n",
    "- general term to describe modeling real world phenomena with math!\n",
    "- Often the goal is to predict future behavior\n",
    "- You've probably done this already in grade school (e.g. word problems)\n",
    "- Usually interdisciplinary (i.e. physics based models, etc.)"
   ]
  },
  {
   "cell_type": "markdown",
   "metadata": {},
   "source": [
    "## Analytical vs. Numerical Methods\n",
    "- General defintion\n",
    "- Example: using calculus to find the slope of a line vs. approximating using Euler's method"
   ]
  },
  {
   "cell_type": "markdown",
   "metadata": {},
   "source": [
    "## Physical modeling\n",
    "- using math and laws of physics to model outcomes\n",
    "- simple xample: projectile motion"
   ]
  },
  {
   "cell_type": "markdown",
   "metadata": {},
   "source": [
    "## Population modeling\n",
    "- simple example: predator prey model ([reference](https://en.wikipedia.org/wiki/Lotka%E2%80%93Volterra_equations))\n",
    "- slightly more complex: SIR model for the zombie apocalypse"
   ]
  },
  {
   "cell_type": "markdown",
   "metadata": {},
   "source": [
    "## Additional Readings\n",
    "- unsolved math problems (clay institute)"
   ]
  }
 ],
 "metadata": {
  "language_info": {
   "name": "python"
  }
 },
 "nbformat": 4,
 "nbformat_minor": 2
}
