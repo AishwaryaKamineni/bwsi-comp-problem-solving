{
 "cells": [
  {
   "cell_type": "markdown",
   "id": "50f6bdfc",
   "metadata": {},
   "source": [
    "# Applied Math: Intro to Data Analysis"
   ]
  },
  {
   "cell_type": "markdown",
   "id": "52b5afd8",
   "metadata": {},
   "source": [
    "## What is Data Analysis?\n",
    "- pros/cons\n",
    "- reliant on \"clean\" data to make any conclusions\n",
    "- careful about comparing different data (may not be consistent)\n",
    "\n",
    "### Basic Method\n",
    "1. Data collection\n",
    "2. Data cleaning\n",
    "3. Exploration\n",
    "4. Model building (i.e. check that your inferences are correct)\n",
    "5. Communicate findings"
   ]
  },
  {
   "cell_type": "markdown",
   "id": "464ff0ca",
   "metadata": {},
   "source": [
    "## Example\n",
    "- Provide fake data or free data from Kaggle/somewhere similar\n",
    "- Prompt students to follow the general process above\n",
    "- Suggest specific technique/s to use\n",
    "- Ask them to provide 1-2 plots that back up their conclusions and explain why they were the right plots to show"
   ]
  },
  {
   "cell_type": "markdown",
   "id": "9915e4a6",
   "metadata": {},
   "source": [
    "## Conclusions\n",
    "- blackbox analysis is not useful!! Must be able to demonstrate and communicate findings clearly\n",
    "- Don't use techniques you don't understand\n",
    "- set up for ML units"
   ]
  }
 ],
 "metadata": {
  "language_info": {
   "name": "python"
  }
 },
 "nbformat": 4,
 "nbformat_minor": 5
}
