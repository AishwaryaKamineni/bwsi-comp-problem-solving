{
 "cells": [
  {
   "cell_type": "markdown",
   "id": "381dd255",
   "metadata": {},
   "source": [
    "# Supervised Learning: Types of Supervised Learning"
   ]
  },
  {
   "cell_type": "markdown",
   "id": "825a20bf",
   "metadata": {},
   "source": [
    "- pros/cons ([reference](https://scikit-learn.org/stable/modules/svm.html))"
   ]
  },
  {
   "cell_type": "markdown",
   "id": "668b0469",
   "metadata": {},
   "source": [
    "# Classification"
   ]
  },
  {
   "cell_type": "markdown",
   "id": "3d29b997",
   "metadata": {},
   "source": [
    "### Support Vector Machines"
   ]
  },
  {
   "cell_type": "markdown",
   "id": "179edb78",
   "metadata": {},
   "source": [
    "## Regression"
   ]
  },
  {
   "cell_type": "markdown",
   "id": "86264552",
   "metadata": {},
   "source": [
    "### Linear Regression"
   ]
  }
 ],
 "metadata": {
  "language_info": {
   "name": "python"
  }
 },
 "nbformat": 4,
 "nbformat_minor": 5
}
