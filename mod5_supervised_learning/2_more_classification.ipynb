{
 "cells": [
  {
   "cell_type": "markdown",
   "id": "1fe2bbd1",
   "metadata": {},
   "source": [
    "# Supervised Learning: More Classification"
   ]
  },
  {
   "cell_type": "markdown",
   "id": "ca579a74",
   "metadata": {},
   "source": [
    "- Practice implementing classifier algorithms"
   ]
  }
 ],
 "metadata": {
  "language_info": {
   "name": "python"
  }
 },
 "nbformat": 4,
 "nbformat_minor": 5
}
