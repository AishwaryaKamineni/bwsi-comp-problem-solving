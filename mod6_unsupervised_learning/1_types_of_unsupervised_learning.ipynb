{
 "cells": [
  {
   "cell_type": "markdown",
   "id": "381dd255",
   "metadata": {},
   "source": [
    "# Unsupervised Learning: Types of Unsupervised Learning"
   ]
  },
  {
   "cell_type": "markdown",
   "id": "825a20bf",
   "metadata": {},
   "source": [
    "- Often thought of as \"clustering\" algorithms used for data exploration\n",
    "- pros/cons ([reference](https://scikit-learn.org/stable/modules/svm.html))"
   ]
  },
  {
   "cell_type": "markdown",
   "id": "51c5bfe0",
   "metadata": {},
   "source": [
    "## Centroid Based Clustering\n",
    "- aka partitioning methods\n",
    "- K-means and K-medoids"
   ]
  },
  {
   "cell_type": "markdown",
   "id": "c676a226",
   "metadata": {},
   "source": [
    "## Density Based Clustering\n",
    "- DBSCAN and OPTICS"
   ]
  },
  {
   "cell_type": "markdown",
   "id": "257b6dbe",
   "metadata": {},
   "source": [
    "## Connectivity Based Clustering\n",
    "- aka heirarchical clustering\n",
    "- agglomerative and divisive clustering, reference [here](https://www.geeksforgeeks.org/machine-learning/difference-between-agglomerative-clustering-and-divisive-clustering/)\n",
    "- Not covered as thoroughly in this module"
   ]
  }
 ],
 "metadata": {
  "kernelspec": {
   "display_name": "base",
   "language": "python",
   "name": "python3"
  },
  "language_info": {
   "codemirror_mode": {
    "name": "ipython",
    "version": 3
   },
   "file_extension": ".py",
   "mimetype": "text/x-python",
   "name": "python",
   "nbconvert_exporter": "python",
   "pygments_lexer": "ipython3",
   "version": "3.12.8"
  }
 },
 "nbformat": 4,
 "nbformat_minor": 5
}
