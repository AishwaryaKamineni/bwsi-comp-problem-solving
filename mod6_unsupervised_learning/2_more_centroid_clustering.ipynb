{
 "cells": [
  {
   "cell_type": "markdown",
   "id": "0431a295",
   "metadata": {},
   "source": [
    "# Unsupervised Learning: More centroid clustering"
   ]
  },
  {
   "cell_type": "markdown",
   "id": "be3f33d6",
   "metadata": {},
   "source": [
    "- Practice implementing centroid clustering"
   ]
  }
 ],
 "metadata": {
  "language_info": {
   "name": "python"
  }
 },
 "nbformat": 4,
 "nbformat_minor": 5
}
