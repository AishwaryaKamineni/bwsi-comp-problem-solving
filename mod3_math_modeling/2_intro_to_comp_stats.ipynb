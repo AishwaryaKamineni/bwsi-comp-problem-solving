{
 "cells": [
  {
   "cell_type": "markdown",
   "id": "36afa36f",
   "metadata": {},
   "source": [
    "# Math Modeling: Intro to Computational Statistics"
   ]
  },
  {
   "cell_type": "markdown",
   "id": "09fb27b8",
   "metadata": {},
   "source": [
    "## Review of Probability\n",
    "- deifne probability\n",
    "\n",
    "### Probability vs. Likelihood\n",
    "- define likelihood\n",
    "- give example that contrasts which is which"
   ]
  },
  {
   "cell_type": "markdown",
   "id": "029485f2",
   "metadata": {},
   "source": [
    "## Common Distributions\n",
    "- Uniform\n",
    "- Gaussian\n",
    "- Binomial (e.g. coin flip)\n",
    "- Example of flipping a coin using a binomial random variable"
   ]
  },
  {
   "cell_type": "markdown",
   "id": "6860a20e",
   "metadata": {},
   "source": [
    "## Monte Carlo Simulations\n",
    "- Definition\n",
    "- Why they are useful!\n",
    "- Need to run enough sims to get a represeentative sample\n",
    "- Good for determining distribution of outcomes when there isn't a certain/singular outcome\n",
    "- Example of flipping an unfair coin using binomial random variable"
   ]
  },
  {
   "cell_type": "markdown",
   "id": "a309fa70",
   "metadata": {},
   "source": [
    "## Bayesian Inference\n",
    "- Monty Hall problem ([reference](https://en.wikipedia.org/wiki/Monty_Hall_problem))\n",
    "- Solve with Bayes Theorem \n",
    "- Solve with Monte Carlo simulations"
   ]
  },
  {
   "cell_type": "markdown",
   "id": "bf0dcd57",
   "metadata": {},
   "source": [
    "## Applications\n",
    "- Curve fitting\n",
    "- State estimation (used in space physics and even self driving cars!)"
   ]
  }
 ],
 "metadata": {
  "language_info": {
   "name": "python"
  }
 },
 "nbformat": 4,
 "nbformat_minor": 5
}
