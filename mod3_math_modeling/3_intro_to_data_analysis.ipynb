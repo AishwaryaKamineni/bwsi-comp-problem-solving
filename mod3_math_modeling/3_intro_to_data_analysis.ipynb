{
 "cells": [
  {
   "cell_type": "markdown",
   "id": "50f6bdfc",
   "metadata": {},
   "source": [
    "# Math Modeling: Intro to Data Analysis"
   ]
  },
  {
   "cell_type": "markdown",
   "id": "25cc58d5",
   "metadata": {},
   "source": [
    "## Review of Pandas"
   ]
  },
  {
   "cell_type": "markdown",
   "id": "3c496e1c",
   "metadata": {},
   "source": [
    "- notes about what pandas is good for, embed links to previous notebooks from BWSI intro course as necessary\n",
    "- introduce some additional, more advanced syntax that might be helpful like pd.query, pd.nlargest, etc. "
   ]
  },
  {
   "cell_type": "markdown",
   "id": "52b5afd8",
   "metadata": {},
   "source": [
    "## What is Data Analysis?\n",
    "- pros/cons\n",
    "- reliant on \"clean\" data to make any conclusions\n",
    "- careful about comparing different data (may not be consistent)\n",
    "\n",
    "### Basic Method\n",
    "1. Data collection\n",
    "2. Data cleaning\n",
    "3. Exploration\n",
    "4. Model building (i.e. check that your inferences are correct)\n",
    "5. Communicate findings"
   ]
  },
  {
   "cell_type": "markdown",
   "id": "256d5753",
   "metadata": {},
   "source": [
    "### Important notes\n",
    "- ways to explore data (i.e. stats, plotting, grouping by category)\n",
    "- talk generally about significance levels\n",
    "- iterative process of hypothesis -> conclusion -> new hypothesis -> ..."
   ]
  },
  {
   "cell_type": "markdown",
   "id": "464ff0ca",
   "metadata": {},
   "source": [
    "## Example\n",
    "- Provide fake data or free data from Kaggle/somewhere similar\n",
    "- Prompt students to follow the general process above\n",
    "- Suggest specific technique/s to use\n",
    "- Ask them to provide 1-2 plots that back up their conclusions and explain why they were the right plots to show"
   ]
  },
  {
   "cell_type": "markdown",
   "id": "9915e4a6",
   "metadata": {},
   "source": [
    "## Conclusions\n",
    "- blackbox analysis is not useful!! Must be able to demonstrate and communicate findings clearly\n",
    "- Don't use techniques you don't understand\n",
    "- Caution: history doesn't always predict the future\n",
    "- set up for ML units"
   ]
  }
 ],
 "metadata": {
  "language_info": {
   "name": "python"
  }
 },
 "nbformat": 4,
 "nbformat_minor": 5
}
