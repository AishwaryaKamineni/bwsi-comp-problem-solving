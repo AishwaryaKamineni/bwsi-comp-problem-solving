{
 "cells": [
  {
   "cell_type": "markdown",
   "metadata": {},
   "source": [
    "# Intermediate Python: Class Inheritance"
   ]
  },
  {
   "cell_type": "markdown",
   "metadata": {},
   "source": [
    "## Review of Object Oriented Programming"
   ]
  },
  {
   "cell_type": "markdown",
   "metadata": {},
   "source": [
    "- links to BWSI intro course notebooks as needed\n",
    "- high level reminder of what OOP is good for\n",
    "- quick comment of why OOP vs. functional programming"
   ]
  },
  {
   "cell_type": "markdown",
   "metadata": {},
   "source": [
    "## Inheritance"
   ]
  },
  {
   "cell_type": "markdown",
   "metadata": {},
   "source": [
    "- definition of class inheritance\n",
    "- example: Dog vs. breed of Dog (e.g. GoldenRetriever, Poodle child classes) vs instance of Dog/child classes\n",
    "- question for students: provide skeleton of Cat class, ask for Tuxedo child class definition and instance of Cat vs. Tuxedo"
   ]
  }
 ],
 "metadata": {
  "language_info": {
   "name": "python"
  }
 },
 "nbformat": 4,
 "nbformat_minor": 2
}
