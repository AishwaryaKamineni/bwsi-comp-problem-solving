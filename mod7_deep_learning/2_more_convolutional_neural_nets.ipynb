{
 "cells": [
  {
   "cell_type": "markdown",
   "id": "96ed6989",
   "metadata": {},
   "source": [
    "# Deep Learning: More Convolutional Neural Networks"
   ]
  },
  {
   "cell_type": "markdown",
   "id": "f4ff3863",
   "metadata": {},
   "source": [
    "- Practice implementing a convolutional neural network"
   ]
  }
 ],
 "metadata": {
  "language_info": {
   "name": "python"
  }
 },
 "nbformat": 4,
 "nbformat_minor": 5
}
