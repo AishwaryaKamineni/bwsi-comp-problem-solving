{
 "cells": [
  {
   "cell_type": "markdown",
   "id": "381dd255",
   "metadata": {},
   "source": [
    "# Unsupervised Learning: Types of Unsupervised Learning"
   ]
  },
  {
   "cell_type": "markdown",
   "id": "825a20bf",
   "metadata": {},
   "source": [
    "- pros/cons ([reference](https://scikit-learn.org/stable/modules/svm.html))\n",
    "- quick reference of the different types [here](https://www.geeksforgeeks.org/deep-learning/types-of-neural-networks/)"
   ]
  },
  {
   "cell_type": "markdown",
   "id": "668b0469",
   "metadata": {},
   "source": [
    "## Convolutional Neural Networks"
   ]
  },
  {
   "cell_type": "markdown",
   "id": "3076894d",
   "metadata": {},
   "source": [
    "## Feedforward Neural Networks"
   ]
  },
  {
   "cell_type": "markdown",
   "id": "b29cfeb6",
   "metadata": {},
   "source": [
    "## Recurrent Neural Networks"
   ]
  },
  {
   "cell_type": "markdown",
   "id": "60efbbab",
   "metadata": {},
   "source": [
    "## Transformer Networks\n",
    "- Wikipedia overview [here](https://en.wikipedia.org/wiki/Transformer_(deep_learning_architecture))\n",
    "- All ChatGPT models are transformer LLMs! "
   ]
  }
 ],
 "metadata": {
  "language_info": {
   "name": "python"
  }
 },
 "nbformat": 4,
 "nbformat_minor": 5
}
