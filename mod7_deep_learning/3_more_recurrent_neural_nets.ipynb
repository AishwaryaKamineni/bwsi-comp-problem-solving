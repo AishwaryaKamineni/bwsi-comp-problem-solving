{
 "cells": [
  {
   "cell_type": "markdown",
   "id": "98b0dbba",
   "metadata": {},
   "source": [
    "# Deep Learning: More Recurrent Neural Networks"
   ]
  },
  {
   "cell_type": "markdown",
   "id": "be4ae5e3",
   "metadata": {},
   "source": [
    "- Practice implementing a recurrent neural network"
   ]
  }
 ],
 "metadata": {
  "language_info": {
   "name": "python"
  }
 },
 "nbformat": 4,
 "nbformat_minor": 5
}
