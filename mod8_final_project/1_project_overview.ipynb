{
 "cells": [
  {
   "cell_type": "markdown",
   "id": "99af76f2",
   "metadata": {},
   "source": [
    "# Final Project: Overview"
   ]
  },
  {
   "cell_type": "markdown",
   "id": "b8cd4c3b",
   "metadata": {},
   "source": [
    "- All in class\n",
    "- Approx 2 hours in small groups\n",
    "- Instructor guidance"
   ]
  }
 ],
 "metadata": {
  "language_info": {
   "name": "python"
  }
 },
 "nbformat": 4,
 "nbformat_minor": 5
}
