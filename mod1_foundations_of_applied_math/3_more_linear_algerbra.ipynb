{
 "cells": [
  {
   "cell_type": "markdown",
   "metadata": {},
   "source": [
    "# Foundations of Applied Mathematics: More Linear Algebra"
   ]
  },
  {
   "cell_type": "markdown",
   "metadata": {},
   "source": [
    "## Eigenvalues and Eigenvectors"
   ]
  },
  {
   "cell_type": "markdown",
   "metadata": {},
   "source": [
    "- The second part of [this](https://github.com/mspieg/intro-numerical-methods/blob/master/10_LA_intro.ipynb) notebook may be useful\n",
    "- Focus more on the qualitative / intution takeaways than the symbolic equations shown in linked notebook\n",
    "- Provide one worked example\n",
    "- Provide 2 questions for them to solve, using both analytical and computational methods. Have them check their work using numpy"
   ]
  },
  {
   "cell_type": "markdown",
   "metadata": {},
   "source": [
    "## Vector Norms"
   ]
  },
  {
   "cell_type": "markdown",
   "metadata": {},
   "source": [
    "- example: distance formula is just a vector norm\n",
    "- Ask the students to solve 1-2 cases with both analytical formula and then using numpy"
   ]
  },
  {
   "cell_type": "markdown",
   "metadata": {},
   "source": [
    "## Applications"
   ]
  },
  {
   "cell_type": "markdown",
   "metadata": {},
   "source": [
    "### SVD\n",
    "- no problem, just describe in simple terms and link to a few references\n",
    "- SVD is useful for several real world applications, including image compression and [PCA](https://en.wikipedia.org/wiki/Principal_component_analysis) ( which we will talk about later in the course)"
   ]
  },
  {
   "cell_type": "markdown",
   "metadata": {},
   "source": [
    "### Linear Least Squares\n",
    "- Include a blurb about how least squares works qualitatively, as well as enough symbolic equations so they are familiar with the expressions\n",
    "- Show a solved example\n",
    "- Ask the students to work through a problem similar to [this](https://en.wikipedia.org/wiki/Linear_least_squares#Example) one on Wikipedia\n",
    "- You will need to provide an outline/skeleton for their work"
   ]
  }
 ],
 "metadata": {
  "language_info": {
   "name": "python"
  }
 },
 "nbformat": 4,
 "nbformat_minor": 2
}
