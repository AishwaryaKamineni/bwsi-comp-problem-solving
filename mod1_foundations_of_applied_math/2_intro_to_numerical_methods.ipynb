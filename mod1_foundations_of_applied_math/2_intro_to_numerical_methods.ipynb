{
 "cells": [
  {
   "cell_type": "markdown",
   "metadata": {},
   "source": [
    "# Foundations of Applied Mathematics: Introduction to Numerical Methods"
   ]
  },
  {
   "cell_type": "markdown",
   "metadata": {},
   "source": [
    "## Definition of Numerical Methods"
   ]
  },
  {
   "cell_type": "markdown",
   "metadata": {},
   "source": [
    "- no closed form solution\n",
    "- too hard to do \"by hand\" or analytically\n",
    "\n",
    "Refer to some of the general notes in [this notebook](https://github.com/mspieg/intro-numerical-methods/blob/master/00_intro_numerical_methods.ipynb) about when and why we would use numerical methods. We'll talk about math modeling in a later notebook."
   ]
  },
  {
   "cell_type": "markdown",
   "metadata": {},
   "source": [
    "## Errors and Precision"
   ]
  },
  {
   "cell_type": "markdown",
   "metadata": {},
   "source": [
    "Refer to [this notebook](https://github.com/mspieg/intro-numerical-methods/blob/master/04_error.ipynb) for some in depth level explanations. Please try to simplify the content to a more appropriate level for high schoolers!"
   ]
  },
  {
   "cell_type": "markdown",
   "metadata": {},
   "source": [
    "### Sources of Error\n",
    "- measurement error\n",
    "- rounding/floating point error\n",
    "- truncation error (i.e. infinite expansion approximated by a finite one)\n"
   ]
  },
  {
   "cell_type": "markdown",
   "metadata": {},
   "source": [
    "### Types of Error\n",
    "\n",
    "- absolute error\n",
    "- relative error"
   ]
  },
  {
   "cell_type": "markdown",
   "metadata": {},
   "source": [
    "## Root Finding Algorithms"
   ]
  },
  {
   "cell_type": "markdown",
   "metadata": {},
   "source": [
    "- useful for non-trivial cases (i.e. not quadratics)\n",
    "- refer to [this notebook](https://github.com/mspieg/intro-numerical-methods/blob/master/05_root_finding_optimization.ipynb) and attempt to simplify amount of analytical syntax and concepts"
   ]
  },
  {
   "cell_type": "markdown",
   "metadata": {},
   "source": [
    "### Bisection Method"
   ]
  },
  {
   "cell_type": "markdown",
   "metadata": {},
   "source": [
    "- qualitative description\n",
    "- pros/cons\n",
    "- convergence rate\n",
    "- implementation"
   ]
  },
  {
   "cell_type": "markdown",
   "metadata": {},
   "source": [
    "### Newton's Method"
   ]
  },
  {
   "cell_type": "markdown",
   "metadata": {},
   "source": [
    "- qualitative description\n",
    "- pros/cons\n",
    "- convergence rate\n",
    "- implementation"
   ]
  }
 ],
 "metadata": {
  "language_info": {
   "name": "python"
  }
 },
 "nbformat": 4,
 "nbformat_minor": 2
}
