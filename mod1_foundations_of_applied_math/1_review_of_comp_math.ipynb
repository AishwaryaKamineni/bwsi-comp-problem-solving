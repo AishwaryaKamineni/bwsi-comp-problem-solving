{
 "cells": [
  {
   "cell_type": "markdown",
   "metadata": {},
   "source": [
    "# Foundations of Applied Math: Review of Computational Math"
   ]
  },
  {
   "cell_type": "markdown",
   "metadata": {},
   "source": [
    "## What is computational math?"
   ]
  },
  {
   "cell_type": "markdown",
   "metadata": {},
   "source": [
    "- Provide general definition (informally, math that is aided by a computer)\n",
    "- Some areas included in computational math: numerical methods, discrete math, simulation, computational statistics, and more"
   ]
  },
  {
   "cell_type": "markdown",
   "metadata": {},
   "source": [
    "## Discrete vs. Continuous"
   ]
  },
  {
   "cell_type": "markdown",
   "metadata": {},
   "source": [
    "- Definition/example of discrete vs. continuous\n",
    "- comment that this is somewhat parallel to the idea of numerical vs. analytic solutions (more on this later)\n",
    "- Review of vectors and matrices"
   ]
  },
  {
   "cell_type": "markdown",
   "metadata": {},
   "source": [
    "## A (Brief) Review of Linear Algebra"
   ]
  },
  {
   "cell_type": "markdown",
   "metadata": {},
   "source": [
    "- general definition\n",
    "- type of problem that linear algebra is good for (perhaps a simple example of a system of equations!)\n",
    "- Applications of linear algebra"
   ]
  },
  {
   "cell_type": "markdown",
   "metadata": {},
   "source": [
    "### Matrix Operations"
   ]
  },
  {
   "cell_type": "markdown",
   "metadata": {},
   "source": [
    "- Matrix addition/subtraction\n",
    "- Matrix multiplication (note about left vs. right multiplication and the identity matrix)\n",
    "- Matrix \"division\" (equivalent to multiplying by the inverse of the second matrix)\n",
    "- dot product\n",
    "- cross product\n",
    "- Matrix raised to a power (note about idempotence)\n",
    "\n",
    "Please give simple examples for all of these!"
   ]
  },
  {
   "cell_type": "markdown",
   "metadata": {},
   "source": [
    "### Determinant"
   ]
  },
  {
   "cell_type": "markdown",
   "metadata": {},
   "source": [
    "- brief qualitative definition\n",
    "- simple example by \"hand\" using python and with numpy function"
   ]
  }
 ],
 "metadata": {
  "language_info": {
   "name": "python"
  }
 },
 "nbformat": 4,
 "nbformat_minor": 2
}
