{
 "cells": [
  {
   "cell_type": "markdown",
   "id": "617d3581",
   "metadata": {},
   "source": [
    "# Intro to ML: Preprocessing Data"
   ]
  },
  {
   "cell_type": "markdown",
   "id": "5cf0b606",
   "metadata": {},
   "source": [
    "## When and Why Preprocess?\n",
    "- if data requires cleaning/standardization\n",
    "- better model performance (in some cases)\n",
    "- faster training time (in some cases)"
   ]
  },
  {
   "cell_type": "markdown",
   "id": "02f87275",
   "metadata": {},
   "source": [
    "## Scaling\n",
    "- When features have significantly different scales (e.g. min/max scaling)\n",
    "- Certain algorithms perform better/converge faster if the data is scaled during preprocessing"
   ]
  },
  {
   "cell_type": "markdown",
   "id": "e3655400",
   "metadata": {},
   "source": [
    "## Encoding\n",
    "- Convert categorical variables into numeric values\n",
    "- example: category values [\"low\", \"medium\", \"high\"] become [1,2,3]"
   ]
  },
  {
   "cell_type": "markdown",
   "id": "cc14180b",
   "metadata": {},
   "source": [
    "## Principal Component Analysis\n",
    "- Distill high dimensional data into a lower dimensions"
   ]
  }
 ],
 "metadata": {
  "language_info": {
   "name": "python"
  }
 },
 "nbformat": 4,
 "nbformat_minor": 5
}
