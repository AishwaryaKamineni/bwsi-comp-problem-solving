{
 "cells": [
  {
   "cell_type": "markdown",
   "id": "1e7851d0",
   "metadata": {},
   "source": [
    "# Introduction to ML: Types of Machine Learning"
   ]
  },
  {
   "cell_type": "markdown",
   "id": "b106c7ce",
   "metadata": {},
   "source": [
    "We will cover each of these in more depth during the remainder of the course!"
   ]
  },
  {
   "cell_type": "markdown",
   "id": "23b5d2c1",
   "metadata": {},
   "source": [
    "## Supervised Learning\n",
    "- must have a labeled dataset to train on\n",
    "- note about semi-supervised learning ([reference](https://en.wikipedia.org/wiki/Weak_supervision))"
   ]
  },
  {
   "cell_type": "markdown",
   "id": "ad91e36a",
   "metadata": {},
   "source": [
    "## Unsupervised Learning\n",
    "- Find structure in unlabeled data"
   ]
  },
  {
   "cell_type": "markdown",
   "id": "bfa0236b",
   "metadata": {},
   "source": [
    "## Deep Learning\n",
    "- Neural networks consisting of multiple un/supervised layers\n",
    "- Certain kinds of NNs can be prone to overfitting, so sometimes the simplest/easiest to explain model is the best!\n",
    "\n",
    "### Applications\n",
    "- Robotics\n",
    "- Image classification\n",
    "- natural language processing (e.g Siri)\n",
    "- Recent rise in LLMs like ChatGPT which are considered transformer NNs"
   ]
  }
 ],
 "metadata": {
  "language_info": {
   "name": "python"
  }
 },
 "nbformat": 4,
 "nbformat_minor": 5
}
