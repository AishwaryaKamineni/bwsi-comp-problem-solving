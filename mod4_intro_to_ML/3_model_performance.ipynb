{
 "cells": [
  {
   "cell_type": "markdown",
   "id": "9c7e2a42",
   "metadata": {},
   "source": [
    "# Intro to ML: Model Performance"
   ]
  },
  {
   "cell_type": "markdown",
   "id": "7f8f9e78",
   "metadata": {},
   "source": [
    "## How do we know we can trust our models?\n",
    "- metrics\n",
    "- accuracy\n",
    "- data analysis!"
   ]
  },
  {
   "cell_type": "markdown",
   "id": "5f36b4a5",
   "metadata": {},
   "source": [
    "## Single Test Set\n",
    "- simplest test\n",
    "- leave some fraction of the original dataset to do validation"
   ]
  },
  {
   "cell_type": "markdown",
   "id": "eef0ffd3",
   "metadata": {},
   "source": [
    "# Cross Validation\n",
    "- multiple test sets ensures that results are consistent\n",
    "- utilize entire dataset for training and testing\n",
    "- define and show examples for: k-fold, stratified k-fold "
   ]
  },
  {
   "cell_type": "markdown",
   "id": "a3c78a26",
   "metadata": {},
   "source": [
    "## Classification Report\n",
    "- for classification problems only\n",
    "- define the terms: precision, recall, f1-score, support"
   ]
  },
  {
   "cell_type": "markdown",
   "id": "c40ae2d6",
   "metadata": {},
   "source": [
    "# Confusion Matrix"
   ]
  },
  {
   "cell_type": "markdown",
   "id": "e3a4ad69",
   "metadata": {},
   "source": [
    "- summarize all outcomes as true/false positive or negative\n",
    "- true ___ = correct label\n",
    "- false ___ = incorrect label\n",
    "- especically useful for multiclass\n",
    "- example: image classification using load_digits, certain digits are more likely to be confused for each other"
   ]
  },
  {
   "cell_type": "markdown",
   "id": "34a2a977",
   "metadata": {},
   "source": []
  }
 ],
 "metadata": {
  "language_info": {
   "name": "python"
  }
 },
 "nbformat": 4,
 "nbformat_minor": 5
}
